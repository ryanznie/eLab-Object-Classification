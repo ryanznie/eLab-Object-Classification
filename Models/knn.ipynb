{
 "cells": [
  {
   "cell_type": "code",
   "execution_count": 101,
   "id": "b67d0de8",
   "metadata": {},
   "outputs": [],
   "source": [
    "import numpy as np\n",
    "import pandas as pd\n",
    "import matplotlib.pyplot as plt\n",
    "import seaborn as sns;\n",
    "import random"
   ]
  },
  {
   "cell_type": "code",
   "execution_count": 62,
   "id": "29c1b74d",
   "metadata": {},
   "outputs": [
    {
     "name": "stdout",
     "output_type": "stream",
     "text": [
      "{{0.358,0.312,0.328},{0.388,0.299,0.312},{0.379,0.308,0.312},{0.356,0.313,0.330},{0.377,0.308,0.313},{0.402,0.289,0.307},{0.386,0.298,0.315},{0.388,0.299,0.311},{0.401,0.289,0.308},{0.386,0.298,0.314},{0.386,0.298,0.314},{0.389,0.299,0.311},{0.403,0.289,0.307},{0.401,0.289,0.309},{0.403,0.288,0.308},\n"
     ]
    }
   ],
   "source": [
    "#Preprocessing for Arduino\n",
    "import random\n",
    "Apple_1 = pd.read_csv('Apple_new.csv')\n",
    "gt = pd.DataFrame(Apple_1[['R', 'G', 'B']]).to_numpy()\n",
    "\n",
    "for i in range(len(gt)):\n",
    "    summ = sum(gt[i])\n",
    "    gt[i][0] = gt[i][0]/summ\n",
    "    gt[i][1] = gt[i][1]/summ\n",
    "    gt[i][2] = gt[i][2]/summ\n",
    "    \n",
    "gt = random.sample(list(gt), 15)\n",
    "array = '{'\n",
    "for i in range(len(gt)):\n",
    "    array+=\"{\"\n",
    "    array+= \"{:.5}\".format(str(gt[i][0]))\n",
    "    array+=\",\"\n",
    "    array+=  \"{:.5}\".format(str(gt[i][1]))\n",
    "    array+=\",\"\n",
    "    array+=  \"{:.5}\".format(str(gt[i][2]))\n",
    "    array+=\"}\"\n",
    "    array+=','\n",
    "\n",
    "print(array)\n"
   ]
  },
  {
   "cell_type": "code",
   "execution_count": 63,
   "id": "08214829",
   "metadata": {},
   "outputs": [
    {
     "name": "stdout",
     "output_type": "stream",
     "text": [
      "{{0.479,0.262,0.258},{0.387,0.307,0.305},{0.471,0.267,0.261},{0.336,0.326,0.336},{0.336,0.326,0.336},{0.387,0.307,0.305},{0.364,0.317,0.318},{0.358,0.316,0.325},{0.369,0.313,0.317},{0.336,0.326,0.336},{0.336,0.326,0.336},{0.365,0.313,0.320},{0.356,0.316,0.327},{0.372,0.314,0.313},{0.464,0.272,0.262},\n"
     ]
    }
   ],
   "source": [
    "Orange_1 = pd.read_csv('Orange_new.csv')\n",
    "gt = pd.DataFrame(Orange_1[['R', 'G', 'B']]).to_numpy()\n",
    "\n",
    "for i in range(len(gt)):\n",
    "    summ = sum(gt[i])\n",
    "    gt[i][0] = gt[i][0]/summ\n",
    "    gt[i][1] = gt[i][1]/summ\n",
    "    gt[i][2] = gt[i][2]/summ\n",
    "gt = random.sample(list(gt), 15)\n",
    "array = '{'\n",
    "for i in range(len(gt)):\n",
    "    array+=\"{\"\n",
    "    array+= \"{:.5}\".format(str(gt[i][0]))\n",
    "    array+=\",\"\n",
    "    array+=  \"{:.5}\".format(str(gt[i][1]))\n",
    "    array+=\",\"\n",
    "    array+=  \"{:.5}\".format(str(gt[i][2]))\n",
    "    array+=\"}\"\n",
    "    array+=','\n",
    "print(array)"
   ]
  },
  {
   "cell_type": "code",
   "execution_count": 64,
   "id": "9c639c86",
   "metadata": {},
   "outputs": [
    {
     "name": "stdout",
     "output_type": "stream",
     "text": [
      "{{0.450,0.294,0.255},{0.441,0.295,0.263},{0.441,0.295,0.263},{0.450,0.294,0.255},{0.452,0.291,0.256},{0.418,0.308,0.273},{0.444,0.292,0.262},{0.444,0.292,0.262},{0.450,0.294,0.255},{0.452,0.291,0.256},{0.452,0.291,0.256},{0.440,0.299,0.260},{0.444,0.292,0.262},{0.418,0.308,0.273},{0.418,0.308,0.273},\n"
     ]
    }
   ],
   "source": [
    "Lemon_1 = pd.read_csv('Lemon_new_2.csv')\n",
    "gt = pd.DataFrame(Lemon_1[['R', 'G', 'B']]).to_numpy()\n",
    "\n",
    "for i in range(len(gt)):\n",
    "    summ = sum(gt[i])\n",
    "    gt[i][0] = gt[i][0]/summ\n",
    "    gt[i][1] = gt[i][1]/summ\n",
    "    gt[i][2] = gt[i][2]/summ\n",
    "gt = random.sample(list(gt), 15)\n",
    "array = '{'\n",
    "for i in range(len(gt)):\n",
    "    array+=\"{\"\n",
    "    array+= \"{:.5}\".format(str(gt[i][0]))\n",
    "    array+=\",\"\n",
    "    array+=  \"{:.5}\".format(str(gt[i][1]))\n",
    "    array+=\",\"\n",
    "    array+=  \"{:.5}\".format(str(gt[i][2]))\n",
    "    array+=\"}\"\n",
    "    array+=','\n",
    "print(array)"
   ]
  },
  {
   "cell_type": "code",
   "execution_count": 100,
   "id": "7212e585",
   "metadata": {},
   "outputs": [
    {
     "name": "stdout",
     "output_type": "stream",
     "text": [
      "[0. 0. 0. 0. 0. 0. 0. 0. 0. 0. 0. 0. 0. 0. 0. 1. 1. 1. 1. 1. 1. 1. 1. 1.\n",
      " 1. 1. 1. 1. 1. 1. 2. 2. 2. 2. 2. 2. 2. 2. 2. 2. 2. 2. 2. 2. 2.]\n"
     ]
    }
   ],
   "source": [
    "#The subsequent cells are used for quality control\n",
    "\n",
    "#make the reference array\n",
    "correct = np.zeros(45)\n",
    "for i in range(15):\n",
    "    correct[i] = 0\n",
    "    correct[i+15] = 1\n",
    "    correct[i+30] = 2\n",
    "print(correct)\n",
    "    "
   ]
  },
  {
   "cell_type": "code",
   "execution_count": 39,
   "id": "868495c3",
   "metadata": {},
   "outputs": [],
   "source": [
    "from sklearn.metrics import confusion_matrix\n"
   ]
  },
  {
   "cell_type": "code",
   "execution_count": 144,
   "id": "c35512f5",
   "metadata": {},
   "outputs": [],
   "source": [
    "#Data after final apparatus change\n",
    "#Data obtained by running KNN_algorithm_varification.ino on each of the above data sets of 15 elements. If rerun you might get different results due to the random element\n",
    "actual_data = [0,0,0,0,0,0,0,0,0,0,0,0,0,0,0,1,1,1,1,1,1,1,0,1,1,1,1,0,1,1,2,2,2,2,2,2,2,2,2,2,2,2,2,2,2]\n"
   ]
  },
  {
   "cell_type": "code",
   "execution_count": 145,
   "id": "a246c76a",
   "metadata": {},
   "outputs": [
    {
     "data": {
      "image/png": "[encoded data removed]",
      "text/plain": [
       "<Figure size 432x288 with 2 Axes>"
      ]
     },
     "metadata": {
      "needs_background": "light"
     },
     "output_type": "display_data"
    }
   ],
   "source": [
    "matrix = confusion_matrix(correct, actual_data)\n",
    "matrix = matrix.astype(float)\n",
    "for i in range(len(matrix)):\n",
    "    summ = float(sum(matrix[i]))\n",
    "    for j in range(len(matrix[i])):\n",
    "        matrix[i][j] = matrix[i][j]/summ\n",
    "        \n",
    "plt.figure()\n",
    "plt.title(\"Confusion matrix for KNN algorithm\")\n",
    "\n",
    "s = sns.heatmap(matrix, annot = True, fmt='.2g');\n",
    "s.set_xlabel('Perceived class')\n",
    "s.set_ylabel(\"Actual class\");\n",
    "plt.figtext(0.1, -0.05,'0 - Apples, 1 - Oranges, 2 - Lemons');\n",
    "plt.show()\n"
   ]
  },
  {
   "cell_type": "code",
   "execution_count": null,
   "id": "5e4a48ac",
   "metadata": {},
   "outputs": [],
   "source": []
  }
 ],
 "metadata": {
  "kernelspec": {
   "display_name": "Python 3 (ipykernel)",
   "language": "python",
   "name": "python3"
  },
  "language_info": {
   "codemirror_mode": {
    "name": "ipython",
    "version": 3
   },
   "file_extension": ".py",
   "mimetype": "text/x-python",
   "name": "python",
   "nbconvert_exporter": "python",
   "pygments_lexer": "ipython3",
   "version": "3.7.3"
  }
 },
 "nbformat": 4,
 "nbformat_minor": 5
}
